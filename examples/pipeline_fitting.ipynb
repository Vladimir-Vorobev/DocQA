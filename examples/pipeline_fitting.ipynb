{
 "cells": [
  {
   "cell_type": "code",
   "execution_count": 1,
   "id": "bd377c05",
   "metadata": {},
   "outputs": [],
   "source": [
    "import os\n",
    "import sys"
   ]
  },
  {
   "cell_type": "code",
   "execution_count": 2,
   "id": "97c92440",
   "metadata": {},
   "outputs": [],
   "source": [
    "import warnings\n",
    "warnings.filterwarnings('ignore')"
   ]
  },
  {
   "cell_type": "code",
   "execution_count": 3,
   "id": "c83132aa",
   "metadata": {},
   "outputs": [],
   "source": [
    "docqa_path = 'C:\\\\Users\\\\Вова\\\\PycharmProjects\\\\DocQA' # change the path if necessary\n",
    "sys.path.append(docqa_path)\n",
    "os.chdir(docqa_path)"
   ]
  },
  {
   "cell_type": "markdown",
   "id": "10b70a17",
   "metadata": {},
   "source": [
    "## Description"
   ]
  },
  {
   "cell_type": "markdown",
   "id": "7c9659cc",
   "metadata": {},
   "source": [
    "DocQA allows you to fit Retriever, Ranker, CatBoost pipelines and a general Pipeline."
   ]
  },
  {
   "cell_type": "markdown",
   "id": "26b04d4e",
   "metadata": {},
   "source": [
    "### Train Data"
   ]
  },
  {
   "cell_type": "markdown",
   "id": "73ea2085",
   "metadata": {},
   "source": [
    "Train dataset has these specific options:\n",
    "* translated_question \n",
    "* native_question\n",
    "* translated_context\n",
    "* native_context (it has to be, but it is is not used in the fitting process)\n",
    "\n",
    "Another options can be generated during the process of fitting and used in CatBoost pipeline fitting."
   ]
  },
  {
   "cell_type": "markdown",
   "id": "a808b5fd",
   "metadata": {},
   "source": [
    "Train data can be added via Storage."
   ]
  },
  {
   "cell_type": "code",
   "execution_count": 4,
   "id": "3fafe7ae",
   "metadata": {},
   "outputs": [],
   "source": [
    "from docQA.nodes.storage import Storage\n",
    "\n",
    "storage = Storage(storage_name='base_storage', docs_links=['docs/152.txt']) # creating a storage based on 152 federal law of Russia\n",
    "storage.add_dataset('docs/test_dataset.csv', 'test_dataset')"
   ]
  },
  {
   "cell_type": "code",
   "execution_count": 5,
   "id": "44943ac2",
   "metadata": {},
   "outputs": [
    {
     "ename": "AssertionError",
     "evalue": "Dataset name already exists",
     "output_type": "error",
     "traceback": [
      "\u001b[1;31m---------------------------------------------------------------------------\u001b[0m",
      "\u001b[1;31mAssertionError\u001b[0m                            Traceback (most recent call last)",
      "Input \u001b[1;32mIn [5]\u001b[0m, in \u001b[0;36m<cell line: 1>\u001b[1;34m()\u001b[0m\n\u001b[1;32m----> 1\u001b[0m \u001b[43mstorage\u001b[49m\u001b[38;5;241;43m.\u001b[39;49m\u001b[43madd_dataset\u001b[49m\u001b[43m(\u001b[49m\u001b[38;5;124;43m'\u001b[39;49m\u001b[38;5;124;43mdocs/test_dataset.csv\u001b[39;49m\u001b[38;5;124;43m'\u001b[39;49m\u001b[43m,\u001b[49m\u001b[43m \u001b[49m\u001b[38;5;124;43m'\u001b[39;49m\u001b[38;5;124;43mtest_dataset\u001b[39;49m\u001b[38;5;124;43m'\u001b[39;49m\u001b[43m)\u001b[49m\n",
      "File \u001b[1;32m~\\PycharmProjects\\DocQA\\docQA\\nodes\\storage\\storage.py:235\u001b[0m, in \u001b[0;36mStorage.add_dataset\u001b[1;34m(self, link, name, is_benchmark)\u001b[0m\n\u001b[0;32m    232\u001b[0m \u001b[38;5;28;01mwith\u001b[39;00m \u001b[38;5;28mopen\u001b[39m(\u001b[38;5;124mf\u001b[39m\u001b[38;5;124m'\u001b[39m\u001b[38;5;132;01m{\u001b[39;00m\u001b[38;5;28mself\u001b[39m\u001b[38;5;241m.\u001b[39mstorage_path\u001b[38;5;132;01m}\u001b[39;00m\u001b[38;5;124m/storage_data.json\u001b[39m\u001b[38;5;124m'\u001b[39m, \u001b[38;5;124m'\u001b[39m\u001b[38;5;124mr\u001b[39m\u001b[38;5;124m'\u001b[39m) \u001b[38;5;28;01mas\u001b[39;00m r:\n\u001b[0;32m    233\u001b[0m     json_decoded \u001b[38;5;241m=\u001b[39m json\u001b[38;5;241m.\u001b[39mload(r)\n\u001b[1;32m--> 235\u001b[0m \u001b[38;5;28;01massert\u001b[39;00m (name \u001b[38;5;129;01mnot\u001b[39;00m \u001b[38;5;129;01min\u001b[39;00m json_decoded[\u001b[38;5;124m'\u001b[39m\u001b[38;5;124mdatasets\u001b[39m\u001b[38;5;124m'\u001b[39m][\u001b[38;5;124m'\u001b[39m\u001b[38;5;124mtrain_data\u001b[39m\u001b[38;5;124m'\u001b[39m] \u001b[38;5;129;01mand\u001b[39;00m\n\u001b[0;32m    236\u001b[0m         name \u001b[38;5;129;01mnot\u001b[39;00m \u001b[38;5;129;01min\u001b[39;00m json_decoded[\u001b[38;5;124m'\u001b[39m\u001b[38;5;124mdatasets\u001b[39m\u001b[38;5;124m'\u001b[39m][\u001b[38;5;124m'\u001b[39m\u001b[38;5;124mbenchmark_data\u001b[39m\u001b[38;5;124m'\u001b[39m]), \u001b[38;5;124m'\u001b[39m\u001b[38;5;124mDataset name already exists\u001b[39m\u001b[38;5;124m'\u001b[39m\n\u001b[0;32m    238\u001b[0m code \u001b[38;5;241m=\u001b[39m \u001b[38;5;124m'\u001b[39m\u001b[38;5;124mbenchmark_data\u001b[39m\u001b[38;5;124m'\u001b[39m \u001b[38;5;28;01mif\u001b[39;00m is_benchmark \u001b[38;5;28;01melse\u001b[39;00m \u001b[38;5;124m'\u001b[39m\u001b[38;5;124mtrain_data\u001b[39m\u001b[38;5;124m'\u001b[39m\n\u001b[0;32m    240\u001b[0m json_decoded[\u001b[38;5;124m'\u001b[39m\u001b[38;5;124mdatasets\u001b[39m\u001b[38;5;124m'\u001b[39m][code][name] \u001b[38;5;241m=\u001b[39m {\n\u001b[0;32m    241\u001b[0m     \u001b[38;5;124m'\u001b[39m\u001b[38;5;124mtranslated_question\u001b[39m\u001b[38;5;124m'\u001b[39m: \u001b[38;5;28mlist\u001b[39m(dataset[\u001b[38;5;124m'\u001b[39m\u001b[38;5;124mtranslated_question\u001b[39m\u001b[38;5;124m'\u001b[39m]),\n\u001b[0;32m    242\u001b[0m     \u001b[38;5;124m'\u001b[39m\u001b[38;5;124mtranslated_context\u001b[39m\u001b[38;5;124m'\u001b[39m: \u001b[38;5;28mlist\u001b[39m(dataset[\u001b[38;5;124m'\u001b[39m\u001b[38;5;124mtranslated_context\u001b[39m\u001b[38;5;124m'\u001b[39m]),\n\u001b[0;32m    243\u001b[0m     \u001b[38;5;124m'\u001b[39m\u001b[38;5;124mnative_context\u001b[39m\u001b[38;5;124m'\u001b[39m: \u001b[38;5;28mlist\u001b[39m(dataset[\u001b[38;5;124m'\u001b[39m\u001b[38;5;124mnative_context\u001b[39m\u001b[38;5;124m'\u001b[39m]),\n\u001b[0;32m    244\u001b[0m     \u001b[38;5;124m'\u001b[39m\u001b[38;5;124mnative_question\u001b[39m\u001b[38;5;124m'\u001b[39m: \u001b[38;5;28mlist\u001b[39m(dataset[\u001b[38;5;124m'\u001b[39m\u001b[38;5;124mnative_question\u001b[39m\u001b[38;5;124m'\u001b[39m])\n\u001b[0;32m    245\u001b[0m }\n",
      "\u001b[1;31mAssertionError\u001b[0m: Dataset name already exists"
     ]
    }
   ],
   "source": [
    "storage.add_dataset('docs/test_dataset.csv', 'test_dataset')"
   ]
  },
  {
   "cell_type": "code",
   "execution_count": 6,
   "id": "1a669712",
   "metadata": {},
   "outputs": [],
   "source": [
    "storage.del_dataset('test_dataset') # delete dataset"
   ]
  },
  {
   "cell_type": "code",
   "execution_count": 7,
   "id": "d384bde3",
   "metadata": {},
   "outputs": [],
   "source": [
    "storage.add_dataset('docs/test_dataset.csv', 'test_dataset')"
   ]
  },
  {
   "cell_type": "code",
   "execution_count": 8,
   "id": "36fc2750",
   "metadata": {},
   "outputs": [],
   "source": [
    "storage.add_dataset('docs/test_dataset.csv', 'benchmark_dataset', is_benchmark=True) # mark dataset as a benchmark"
   ]
  },
  {
   "cell_type": "markdown",
   "id": "c6716dbb",
   "metadata": {},
   "source": [
    "### General Pipeline fitting"
   ]
  },
  {
   "cell_type": "code",
   "execution_count": 9,
   "id": "a88e944d",
   "metadata": {},
   "outputs": [],
   "source": [
    "from docQA.pipelines import Pipeline, TranslatorPipeline, RetrieverPipeline, RankerPipeline, CatboostPipeline\n",
    "\n",
    "pipe = Pipeline(storage)"
   ]
  },
  {
   "cell_type": "code",
   "execution_count": 10,
   "id": "d366457e",
   "metadata": {},
   "outputs": [],
   "source": [
    "pipe.add_node(TranslatorPipeline, name='translator', is_technical=True, demo_only=True, num_beams=15)\n",
    "pipe.add_node(RetrieverPipeline, name='retriever')\n",
    "pipe.add_node(RankerPipeline, name='ranker')\n",
    "pipe.add_node(CatboostPipeline, name='catboost')"
   ]
  },
  {
   "cell_type": "code",
   "execution_count": 11,
   "id": "0c47b8ac",
   "metadata": {},
   "outputs": [
    {
     "data": {
      "application/vnd.jupyter.widget-view+json": {
       "model_id": "ece8d915ed824345a0540d842c9e6308",
       "version_major": 2,
       "version_minor": 0
      },
      "text/plain": [
       "Fine tuning retriever:   0%|          | 0/20 [00:00<?, ?it/s]"
      ]
     },
     "metadata": {},
     "output_type": "display_data"
    },
    {
     "data": {
      "application/vnd.jupyter.widget-view+json": {
       "model_id": "47557db98f1a4cfd8f6e833247ae3b57",
       "version_major": 2,
       "version_minor": 0
      },
      "text/plain": [
       "Fine tuning ranker:   0%|          | 0/20 [00:00<?, ?it/s]"
      ]
     },
     "metadata": {},
     "output_type": "display_data"
    },
    {
     "data": {
      "application/vnd.jupyter.widget-view+json": {
       "model_id": "e832de56c22d4739a86961a2c0575551",
       "version_major": 2,
       "version_minor": 0
      },
      "text/plain": [
       "Fine tuning catboost:   0%|          | 0/1 [00:00<?, ?it/s]"
      ]
     },
     "metadata": {},
     "output_type": "display_data"
    }
   ],
   "source": [
    "pipe.fit()"
   ]
  },
  {
   "cell_type": "code",
   "execution_count": 12,
   "id": "d64d8cb4",
   "metadata": {},
   "outputs": [
    {
     "data": {
      "text/plain": [
       "[{'input': 'Какое определение персональных данных?',\n",
       "  'output': {'answers': [{'answer': '1) персональные данные - любая информация, относящаяся к прямо или косвенно определенному или определяемому физическому лицу (субъекту персональных данных);',\n",
       "     'total_score': 0.7079729821886714,\n",
       "     'scores': {'retriever_cos_sim': 0.8394578099250793,\n",
       "      'ranker_cos_sim': 0.9055840373039246,\n",
       "      'catboost_proba': 0.3788770993370103}},\n",
       "    {'answer': '3) предполагаемые пользователи персональных данных;',\n",
       "     'total_score': 0.5114594604118877,\n",
       "     'scores': {'retriever_cos_sim': 0.6962785720825195,\n",
       "      'ranker_cos_sim': 0.7411357164382935,\n",
       "      'catboost_proba': 0.09696409271485039}},\n",
       "    {'answer': '6) предоставление персональных данных - действия, направленные на раскрытие персональных данных определенному лицу или определенному кругу лиц;',\n",
       "     'total_score': 0.5099472115635625,\n",
       "     'scores': {'retriever_cos_sim': 0.5751959085464478,\n",
       "      'ranker_cos_sim': 0.7452040314674377,\n",
       "      'catboost_proba': 0.2094416946768018}},\n",
       "    {'answer': '2. Решение, порождающее юридические последствия в отношении субъекта персональных данных или иным образом затрагивающее его права и законные интересы, может быть принято на основании исключительно автоматизированной обработки его персональных данных только при наличии согласия в письменной форме субъекта персональных данных или в случаях, предусмотренных федеральными законами, устанавливающими также меры по обеспечению соблюдения прав и законных интересов субъекта персональных данных.',\n",
       "     'total_score': 0.5062267652166305,\n",
       "     'scores': {'retriever_cos_sim': 0.6834455728530884,\n",
       "      'ranker_cos_sim': 0.6526877880096436,\n",
       "      'catboost_proba': 0.18254693478715953}},\n",
       "    {'answer': '2) правовые основания и цели обработки персональных данных;',\n",
       "     'total_score': 0.505706184663036,\n",
       "     'scores': {'retriever_cos_sim': 0.6827375888824463,\n",
       "      'ranker_cos_sim': 0.7283693552017212,\n",
       "      'catboost_proba': 0.10601160990494045}},\n",
       "    {'answer': '2. Субъект персональных данных имеет право на защиту своих прав и законных интересов, в том числе на возмещение убытков и (или) компенсацию морального вреда в судебном порядке.',\n",
       "     'total_score': 0.5023718620968727,\n",
       "     'scores': {'retriever_cos_sim': 0.6631042957305908,\n",
       "      'ranker_cos_sim': 0.6937114596366882,\n",
       "      'catboost_proba': 0.1502998309233389}},\n",
       "    {'answer': '7. Субъект персональных данных имеет право на получение информации, касающейся обработки его персональных данных, в том числе содержащей:',\n",
       "     'total_score': 0.4960987834690454,\n",
       "     'scores': {'retriever_cos_sim': 0.6397688984870911,\n",
       "      'ranker_cos_sim': 0.7143899202346802,\n",
       "      'catboost_proba': 0.13413753168536494}},\n",
       "    {'answer': '2) цель обработки персональных данных;',\n",
       "     'total_score': 0.48025185770319073,\n",
       "     'scores': {'retriever_cos_sim': 0.6434128284454346,\n",
       "      'ranker_cos_sim': 0.7018346786499023,\n",
       "      'catboost_proba': 0.09550806601423525}},\n",
       "    {'answer': '5) правовое основание обработки персональных данных;',\n",
       "     'total_score': 0.4749492191171163,\n",
       "     'scores': {'retriever_cos_sim': 0.6286898851394653,\n",
       "      'ranker_cos_sim': 0.6935483813285828,\n",
       "      'catboost_proba': 0.10260939088330072}},\n",
       "    {'answer': '4) цель обработки персональных данных;',\n",
       "     'total_score': 0.47054203511167136,\n",
       "     'scores': {'retriever_cos_sim': 0.61492919921875,\n",
       "      'ranker_cos_sim': 0.6970757842063904,\n",
       "      'catboost_proba': 0.0996211219098738}}]},\n",
       "  'modified_input': 'What is the definition of personal data?'}]"
      ]
     },
     "execution_count": 12,
     "metadata": {},
     "output_type": "execute_result"
    }
   ],
   "source": [
    "text_input = 'Какое определение персональных данных?'\n",
    "\n",
    "pipe(text_input)"
   ]
  },
  {
   "cell_type": "code",
   "execution_count": 13,
   "id": "d6f63b7c",
   "metadata": {},
   "outputs": [],
   "source": [
    "storage.del_dataset('test_dataset')\n",
    "storage.del_dataset('benchmark_dataset')"
   ]
  },
  {
   "cell_type": "code",
   "execution_count": null,
   "id": "2a8c7c99",
   "metadata": {},
   "outputs": [],
   "source": []
  }
 ],
 "metadata": {
  "kernelspec": {
   "display_name": "Python 3 (ipykernel)",
   "language": "python",
   "name": "python3"
  },
  "language_info": {
   "codemirror_mode": {
    "name": "ipython",
    "version": 3
   },
   "file_extension": ".py",
   "mimetype": "text/x-python",
   "name": "python",
   "nbconvert_exporter": "python",
   "pygments_lexer": "ipython3",
   "version": "3.9.13"
  }
 },
 "nbformat": 4,
 "nbformat_minor": 5
}
