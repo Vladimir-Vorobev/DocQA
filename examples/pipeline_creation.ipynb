{
 "cells": [
  {
   "cell_type": "code",
   "execution_count": 1,
   "id": "9f4fdaed",
   "metadata": {},
   "outputs": [],
   "source": [
    "import os\n",
    "import sys"
   ]
  },
  {
   "cell_type": "code",
   "execution_count": 2,
   "id": "a0e576fd",
   "metadata": {},
   "outputs": [],
   "source": [
    "import warnings\n",
    "warnings.filterwarnings('ignore')"
   ]
  },
  {
   "cell_type": "code",
   "execution_count": 3,
   "id": "6bd62cd5",
   "metadata": {},
   "outputs": [],
   "source": [
    "docqa_path = 'C:\\\\Users\\\\Вова\\\\PycharmProjects\\\\DocQA' # change the path if necessary\n",
    "sys.path.append(docqa_path)\n",
    "os.chdir(docqa_path)"
   ]
  },
  {
   "cell_type": "markdown",
   "id": "472ca066",
   "metadata": {},
   "source": [
    "## Description"
   ]
  },
  {
   "cell_type": "markdown",
   "id": "59012098",
   "metadata": {},
   "source": [
    "DocQA library provides simple tools for Retriever, Ranker, Translator, CatBoost and QG pipelines creation and usage. It is also possible to combine different pipelines in a general Pipeline to achieve your purposes in developing your QA-system."
   ]
  },
  {
   "cell_type": "markdown",
   "id": "d40d683a",
   "metadata": {},
   "source": [
    "### Pipeline outputs"
   ]
  },
  {
   "cell_type": "markdown",
   "id": "a76d0fd8",
   "metadata": {},
   "source": [
    "Each pipeline except for QgPipeline returns standardized output which is a list of dicts with 3 keys:\n",
    "* input - an input string (question is expected)\n",
    "* output - a dict with these keys:\n",
    "    * answers - a list of dicts with these keys:\n",
    "        * answer (only in general Pipeline) - an answer string\n",
    "        * index (except for general Pipeline) - an index of answer in the list of document parts\n",
    "        * total_score (except for general Pipeline) - an average score of all pipelines' scores\n",
    "        * weights_sum (except for general Pipeline)- a sum of all pipelines' weights\n",
    "        * scores - a dict in which key values are scores of pipelines\n",
    "* modified_input - a preprocessed input string"
   ]
  },
  {
   "cell_type": "markdown",
   "id": "c467e624",
   "metadata": {},
   "source": [
    "Retriever, Ranker, Translator, CatBoost pipelines and a general pipeline are based on the same architecture, what makes the usage of the pipelines simple and predictable. Below there is an example of pipelines output behavior:"
   ]
  },
  {
   "cell_type": "markdown",
   "id": "6b806e0a",
   "metadata": {},
   "source": [
    "### Translator pipeline"
   ]
  },
  {
   "cell_type": "code",
   "execution_count": 4,
   "id": "3a14b93f",
   "metadata": {},
   "outputs": [],
   "source": [
    "from docQA.pipelines import TranslatorPipeline\n",
    "\n",
    "pipe = TranslatorPipeline(num_beams=15)"
   ]
  },
  {
   "cell_type": "code",
   "execution_count": 5,
   "id": "eab63f05",
   "metadata": {},
   "outputs": [
    {
     "data": {
      "text/plain": [
       "[{'input': 'Что такое ПДн?',\n",
       "  'output': {'answers': []},\n",
       "  'modified_input': 'What is PDN?'}]"
      ]
     },
     "execution_count": 5,
     "metadata": {},
     "output_type": "execute_result"
    }
   ],
   "source": [
    "input_text = 'Что такое ПДн?'\n",
    "\n",
    "pipe(input_text)"
   ]
  },
  {
   "cell_type": "code",
   "execution_count": 6,
   "id": "82d0538c",
   "metadata": {},
   "outputs": [
    {
     "data": {
      "text/plain": [
       "[{'input': 'Что такое ПДн?',\n",
       "  'output': {'answers': []},\n",
       "  'modified_input': 'What is PDN?'},\n",
       " {'input': 'Что такое трансграничная передача персональных данных?',\n",
       "  'output': {'answers': []},\n",
       "  'modified_input': 'What is cross-border transfer of personal data?'}]"
      ]
     },
     "execution_count": 6,
     "metadata": {},
     "output_type": "execute_result"
    }
   ],
   "source": [
    "input_text = ['Что такое ПДн?', 'Что такое трансграничная передача персональных данных?']\n",
    "\n",
    "pipe(input_text)"
   ]
  },
  {
   "cell_type": "code",
   "execution_count": 7,
   "id": "37afa13f",
   "metadata": {},
   "outputs": [
    {
     "data": {
      "text/plain": [
       "['What is PDN?', 'What is cross-border transfer of personal data?']"
      ]
     },
     "execution_count": 7,
     "metadata": {},
     "output_type": "execute_result"
    }
   ],
   "source": [
    "input_text = ['Что такое ПДн?', 'Что такое трансграничная передача персональных данных?']\n",
    "\n",
    "pipe(input_text, standardized=False) # only translator pipeline supports 'standardized' flag"
   ]
  },
  {
   "cell_type": "markdown",
   "id": "c2501bfe",
   "metadata": {},
   "source": [
    "### Retriever pipeline"
   ]
  },
  {
   "cell_type": "markdown",
   "id": "6dc717dd",
   "metadata": {},
   "source": [
    "Retriever pipeline works identically to the Ranker pipeline"
   ]
  },
  {
   "cell_type": "code",
   "execution_count": 8,
   "id": "28b83be1",
   "metadata": {},
   "outputs": [],
   "source": [
    "from docQA.pipelines import RetrieverPipeline\n",
    "from docQA.nodes.storage import Storage\n",
    "\n",
    "storage = Storage(storage_name='base_storage', docs_links=['docs/152.txt']) # creating a storage based on 152 federal law of Russia"
   ]
  },
  {
   "cell_type": "code",
   "execution_count": 9,
   "id": "ed534d2f",
   "metadata": {},
   "outputs": [],
   "source": [
    "pipe = RetrieverPipeline(storage.retriever_docs_translated)"
   ]
  },
  {
   "cell_type": "code",
   "execution_count": 10,
   "id": "e21bb5e6",
   "metadata": {},
   "outputs": [
    {
     "data": {
      "text/plain": [
       "[{'input': 'What is PDN?',\n",
       "  'output': {'answers': [{'index': 339,\n",
       "     'total_score': 0.27039051055908203,\n",
       "     'weights_sum': 1.0,\n",
       "     'scores': {'retriever_cos_sim': 0.27039051055908203}},\n",
       "    {'index': 3,\n",
       "     'total_score': 0.25810524821281433,\n",
       "     'weights_sum': 1.0,\n",
       "     'scores': {'retriever_cos_sim': 0.25810524821281433}},\n",
       "    {'index': 25,\n",
       "     'total_score': 0.2117874026298523,\n",
       "     'weights_sum': 1.0,\n",
       "     'scores': {'retriever_cos_sim': 0.2117874026298523}}]},\n",
       "  'modified_input': 'What is PDN?'},\n",
       " {'input': 'What is cross-border transfer of personal data?',\n",
       "  'output': {'answers': [{'index': 36,\n",
       "     'total_score': 0.7742951512336731,\n",
       "     'weights_sum': 1.0,\n",
       "     'scores': {'retriever_cos_sim': 0.7742951512336731}},\n",
       "    {'index': 141,\n",
       "     'total_score': 0.7269560098648071,\n",
       "     'weights_sum': 1.0,\n",
       "     'scores': {'retriever_cos_sim': 0.7269560098648071}},\n",
       "    {'index': 142,\n",
       "     'total_score': 0.6852957010269165,\n",
       "     'weights_sum': 1.0,\n",
       "     'scores': {'retriever_cos_sim': 0.6852957010269165}}]},\n",
       "  'modified_input': 'What is cross-border transfer of personal data?'}]"
      ]
     },
     "execution_count": 10,
     "metadata": {},
     "output_type": "execute_result"
    }
   ],
   "source": [
    "input_text = ['What is PDN?', 'What is cross-border transfer of personal data?']\n",
    "\n",
    "pipe(input_text, return_num=3)"
   ]
  },
  {
   "cell_type": "markdown",
   "id": "67f112f9",
   "metadata": {},
   "source": [
    "### Ranker pipeline"
   ]
  },
  {
   "cell_type": "markdown",
   "id": "ea4fa416",
   "metadata": {},
   "source": [
    "Ranker pipeline works identically to the Retriever pipeline"
   ]
  },
  {
   "cell_type": "code",
   "execution_count": 11,
   "id": "db371a6d",
   "metadata": {},
   "outputs": [],
   "source": [
    "from docQA.pipelines import RankerPipeline"
   ]
  },
  {
   "cell_type": "code",
   "execution_count": 12,
   "id": "bfaf6c4f",
   "metadata": {},
   "outputs": [],
   "source": [
    "pipe = RankerPipeline(storage.ranker_docs_translated)"
   ]
  },
  {
   "cell_type": "code",
   "execution_count": 13,
   "id": "4381a1a1",
   "metadata": {},
   "outputs": [
    {
     "data": {
      "text/plain": [
       "[{'input': 'What is PDN?',\n",
       "  'output': {'answers': [{'index': 36,\n",
       "     'total_score': 0.2962704002857208,\n",
       "     'weights_sum': 1.0,\n",
       "     'scores': {'ranker_cos_sim': 0.2962704002857208}},\n",
       "    {'index': 256,\n",
       "     'total_score': 0.27291399240493774,\n",
       "     'weights_sum': 1.0,\n",
       "     'scores': {'ranker_cos_sim': 0.27291399240493774}},\n",
       "    {'index': 172,\n",
       "     'total_score': 0.24463218450546265,\n",
       "     'weights_sum': 1.0,\n",
       "     'scores': {'ranker_cos_sim': 0.24463218450546265}}]},\n",
       "  'modified_input': 'What is PDN?'},\n",
       " {'input': 'What is cross-border transfer of personal data?',\n",
       "  'output': {'answers': [{'index': 137,\n",
       "     'total_score': 0.886732280254364,\n",
       "     'weights_sum': 1.0,\n",
       "     'scores': {'ranker_cos_sim': 0.886732280254364}},\n",
       "    {'index': 36,\n",
       "     'total_score': 0.8719310164451599,\n",
       "     'weights_sum': 1.0,\n",
       "     'scores': {'ranker_cos_sim': 0.8719310164451599}},\n",
       "    {'index': 168,\n",
       "     'total_score': 0.8492573499679565,\n",
       "     'weights_sum': 1.0,\n",
       "     'scores': {'ranker_cos_sim': 0.8492573499679565}}]},\n",
       "  'modified_input': 'What is cross-border transfer of personal data?'}]"
      ]
     },
     "execution_count": 13,
     "metadata": {},
     "output_type": "execute_result"
    }
   ],
   "source": [
    "input_text = ['What is PDN?', 'What is cross-border transfer of personal data?']\n",
    "\n",
    "pipe(input_text, return_num=3)"
   ]
  },
  {
   "cell_type": "markdown",
   "id": "b89e925f",
   "metadata": {},
   "source": [
    "### General pipeline"
   ]
  },
  {
   "cell_type": "code",
   "execution_count": 14,
   "id": "7f1a2607",
   "metadata": {},
   "outputs": [],
   "source": [
    "from docQA.pipelines import Pipeline\n",
    "\n",
    "pipe = Pipeline(storage)"
   ]
  },
  {
   "cell_type": "code",
   "execution_count": 15,
   "id": "8c9b432d",
   "metadata": {},
   "outputs": [],
   "source": [
    "pipe.add_node(TranslatorPipeline, name='translator', is_technical=True, demo_only=True, num_beams=15)\n",
    "pipe.add_node(RetrieverPipeline, name='retriever')\n",
    "pipe.add_node(RankerPipeline, name='ranker')"
   ]
  },
  {
   "cell_type": "code",
   "execution_count": 16,
   "id": "480440df",
   "metadata": {},
   "outputs": [
    {
     "data": {
      "text/plain": [
       "[{'input': 'Что такое персональные данные?',\n",
       "  'output': {'answers': [{'answer': '1) персональные данные - любая информация, относящаяся к прямо или косвенно определенному или определяемому физическому лицу (субъекту персональных данных);',\n",
       "     'total_score': 0.7820469439029694,\n",
       "     'scores': {'retriever_cos_sim': 0.7021254301071167,\n",
       "      'ranker_cos_sim': 0.861968457698822}},\n",
       "    {'answer': '3) предполагаемые пользователи персональных данных;',\n",
       "     'total_score': 0.7196908891201019,\n",
       "     'scores': {'retriever_cos_sim': 0.6950922012329102,\n",
       "      'ranker_cos_sim': 0.7442895770072937}},\n",
       "    {'answer': '2) цель обработки персональных данных;',\n",
       "     'total_score': 0.6678484380245209,\n",
       "     'scores': {'retriever_cos_sim': 0.6220505237579346,\n",
       "      'ranker_cos_sim': 0.7136463522911072}},\n",
       "    {'answer': '2) правовые основания и цели обработки персональных данных;',\n",
       "     'total_score': 0.6541507244110107,\n",
       "     'scores': {'retriever_cos_sim': 0.6059879660606384,\n",
       "      'ranker_cos_sim': 0.7023134827613831}},\n",
       "    {'answer': '4) цель обработки персональных данных;',\n",
       "     'total_score': 0.6533105671405792,\n",
       "     'scores': {'retriever_cos_sim': 0.6052820682525635,\n",
       "      'ranker_cos_sim': 0.701339066028595}},\n",
       "    {'answer': '7. Субъект персональных данных имеет право на получение информации, касающейся обработки его персональных данных, в том числе содержащей:',\n",
       "     'total_score': 0.6530922055244446,\n",
       "     'scores': {'retriever_cos_sim': 0.5903106331825256,\n",
       "      'ranker_cos_sim': 0.7158737778663635}},\n",
       "    {'answer': '2. Субъект персональных данных имеет право на защиту своих прав и законных интересов, в том числе на возмещение убытков и (или) компенсацию морального вреда в судебном порядке.',\n",
       "     'total_score': 0.643451452255249,\n",
       "     'scores': {'retriever_cos_sim': 0.6000968813896179,\n",
       "      'ranker_cos_sim': 0.6868060231208801}},\n",
       "    {'answer': '3) категории персональных данных;',\n",
       "     'total_score': 0.6415583193302155,\n",
       "     'scores': {'retriever_cos_sim': 0.5838664770126343,\n",
       "      'ranker_cos_sim': 0.6992501616477966}},\n",
       "    {'answer': '2) цель обработки персональных данных и ее правовое основание;',\n",
       "     'total_score': 0.6184261739253998,\n",
       "     'scores': {'retriever_cos_sim': 0.560569167137146,\n",
       "      'ranker_cos_sim': 0.6762831807136536}},\n",
       "    {'answer': '1.1) персональные данные, разрешенные субъектом персональных данных для распространения, - персональные данные, доступ неограниченного круга лиц к которым предоставлен субъектом персональных данных путем дачи согласия на обработку персональных данных, разрешенных субъектом персональных данных для распространения в порядке, предусмотренном настоящим Федеральным законом; (в ред. Федерального закона от 30.12.2020 N 519-ФЗ)',\n",
       "     'total_score': 0.6150197982788086,\n",
       "     'scores': {'retriever_cos_sim': 0.5444573163986206,\n",
       "      'ranker_cos_sim': 0.6855822801589966}}]},\n",
       "  'modified_input': 'What is Personal Data?'}]"
      ]
     },
     "execution_count": 16,
     "metadata": {},
     "output_type": "execute_result"
    }
   ],
   "source": [
    "input_text = 'Что такое персональные данные?'\n",
    "\n",
    "pipe(input_text)"
   ]
  },
  {
   "cell_type": "markdown",
   "id": "64a31667",
   "metadata": {},
   "source": [
    "### CatBoost pipeline"
   ]
  },
  {
   "cell_type": "markdown",
   "id": "c5d8d7b2",
   "metadata": {},
   "source": [
    "The CatBoost pipeline won't work without being fitted before. To see the usage of CatBoost pipeline go to pipeline fitting tutorial."
   ]
  }
 ],
 "metadata": {
  "kernelspec": {
   "display_name": "Python 3 (ipykernel)",
   "language": "python",
   "name": "python3"
  },
  "language_info": {
   "codemirror_mode": {
    "name": "ipython",
    "version": 3
   },
   "file_extension": ".py",
   "mimetype": "text/x-python",
   "name": "python",
   "nbconvert_exporter": "python",
   "pygments_lexer": "ipython3",
   "version": "3.9.13"
  }
 },
 "nbformat": 4,
 "nbformat_minor": 5
}
