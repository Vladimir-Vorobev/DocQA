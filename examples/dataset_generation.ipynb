{
 "cells": [
  {
   "cell_type": "code",
   "execution_count": 1,
   "id": "332934dc",
   "metadata": {},
   "outputs": [],
   "source": [
    "import os\n",
    "import sys"
   ]
  },
  {
   "cell_type": "code",
   "execution_count": 2,
   "id": "16965157",
   "metadata": {},
   "outputs": [],
   "source": [
    "import warnings\n",
    "warnings.filterwarnings('ignore')"
   ]
  },
  {
   "cell_type": "code",
   "execution_count": 3,
   "id": "daee60bf",
   "metadata": {},
   "outputs": [],
   "source": [
    "docqa_path = 'C:\\\\Users\\\\Вова\\\\PycharmProjects\\\\DocQA' # change the path if necessary\n",
    "sys.path.append(docqa_path)\n",
    "os.chdir(docqa_path)"
   ]
  },
  {
   "cell_type": "markdown",
   "id": "f9947517",
   "metadata": {},
   "source": [
    "## Description"
   ]
  },
  {
   "cell_type": "markdown",
   "id": "7d7a296b",
   "metadata": {},
   "source": [
    "DocQA provides QgPipeline which can be used to generate train dataset."
   ]
  },
  {
   "cell_type": "code",
   "execution_count": 4,
   "id": "a54afe4a",
   "metadata": {},
   "outputs": [],
   "source": [
    "from docQA.nodes.storage import Storage\n",
    "\n",
    "storage = Storage(storage_name='test_qg', docs_links=['docs/152_article_3.txt']) # creating a storage based on article 9 of 152 federal law of Russia"
   ]
  },
  {
   "cell_type": "code",
   "execution_count": 5,
   "id": "cd191757",
   "metadata": {},
   "outputs": [],
   "source": [
    "from docQA.pipelines import Pipeline, RetrieverPipeline, RankerPipeline, QgPipeline\n",
    "\n",
    "pipe = Pipeline(storage)"
   ]
  },
  {
   "cell_type": "code",
   "execution_count": 6,
   "id": "db7022c9",
   "metadata": {},
   "outputs": [],
   "source": [
    "pipe.add_node(RetrieverPipeline, name='retriever')\n",
    "pipe.add_node(RankerPipeline, name='ranker')"
   ]
  },
  {
   "cell_type": "code",
   "execution_count": 7,
   "id": "652477ab",
   "metadata": {},
   "outputs": [],
   "source": [
    "qg_pipe = QgPipeline(pipe=pipe)"
   ]
  },
  {
   "cell_type": "code",
   "execution_count": 8,
   "id": "6202e538",
   "metadata": {},
   "outputs": [
    {
     "data": {
      "application/vnd.jupyter.widget-view+json": {
       "model_id": "2e7110279879455e83b461c054059e34",
       "version_major": 2,
       "version_minor": 0
      },
      "text/plain": [
       "Generating questions:   0%|          | 0/14 [00:00<?, ?it/s]"
      ]
     },
     "metadata": {},
     "output_type": "display_data"
    }
   ],
   "source": [
    "qg_pipe('docs/test_dataset_generation.csv')"
   ]
  }
 ],
 "metadata": {
  "kernelspec": {
   "display_name": "Python 3 (ipykernel)",
   "language": "python",
   "name": "python3"
  },
  "language_info": {
   "codemirror_mode": {
    "name": "ipython",
    "version": 3
   },
   "file_extension": ".py",
   "mimetype": "text/x-python",
   "name": "python",
   "nbconvert_exporter": "python",
   "pygments_lexer": "ipython3",
   "version": "3.9.13"
  }
 },
 "nbformat": 4,
 "nbformat_minor": 5
}
